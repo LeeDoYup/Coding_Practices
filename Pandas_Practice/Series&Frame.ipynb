{
 "cells": [
  {
   "cell_type": "code",
   "execution_count": 1,
   "metadata": {
    "collapsed": true
   },
   "outputs": [],
   "source": [
    "import pandas as pd"
   ]
  },
  {
   "cell_type": "markdown",
   "metadata": {},
   "source": [
    "Pandas 라이브러리 Import.\n",
    "\n",
    "파이썬의 데이터 구조들은 여러 가지로 구성되어 잘 갖추어져 있지만, \n",
    "\n",
    "Pandas 모듈은 Series와 DataFrame라는 데이터 구조를 제공하며, 이를 활용하면 훨씬 효율적으로 데이터를 다룰 수 있다.\n",
    "\n",
    "\n",
    "시리즈(series)는 Index를 가지는 (또는 레이블이 있는) 1차원 벡터이다.\n",
    "\n",
    "데이터 프레임 (Data Frame)은 Index를 가지는 행과 열로 구성된 테이블이며, 각 열이 시리즈로 구성된 테이블로 이해하면 간단하다.\n",
    "\n",
    "(Index를 가진다는 것만 이해하면, 사실 핵심은 끝나는 데 아직 직관적인 이해가 되지 않을 테니, 각 행, 열 별로 이름이 달려 있다고만 이해하자!)\n",
    "\n",
    "주목할 점은 시리즈와 프레임은 단순한 저장용 컨테이너가 아니며, 다양한 데이터 전처리 함수를 갖추고 있다.\n",
    "- 단순 혹은 계층적 인덱싱\n",
    "- 결측치 처리\n",
    "- 전체 열과 테이블에서 사칙, 논리 연산\n",
    "- 데이터베이스-타입 연산 (JOIN, SELECTION 등...)\n",
    "- 단일 열이나 전체 테이블 시각화\n",
    "- 파일에서 데이터 읽고 쓰기\n",
    "\n",
    "1차원이나 2차원 테이블형 데이터를 다룰 때는, 시리즈나 프레임을 사용하면 좋다!!"
   ]
  },
  {
   "cell_type": "markdown",
   "metadata": {},
   "source": [
    "\n",
    "\n",
    "Series: 1차원 데이터 벡터\n",
    "튜플로 구성된 데이터를 가지고 시리즈를 만들어보자! \n",
    "(튜플의 데이터 자체는 변형 불가능하다는 점 참조)"
   ]
  },
  {
   "cell_type": "code",
   "execution_count": 2,
   "metadata": {
    "collapsed": true
   },
   "outputs": [],
   "source": [
    "values = (2.2, 3.4, 2.8, 1.6, 2.3, 2.7, 3.4, 3.2, 2.8, 3.8, -0.4, 1.6, 3.2, 2.1, 1.5, 1.5)"
   ]
  },
  {
   "cell_type": "code",
   "execution_count": 3,
   "metadata": {},
   "outputs": [
    {
     "data": {
      "text/plain": [
       "(2.2,\n",
       " 3.4,\n",
       " 2.8,\n",
       " 1.6,\n",
       " 2.3,\n",
       " 2.7,\n",
       " 3.4,\n",
       " 3.2,\n",
       " 2.8,\n",
       " 3.8,\n",
       " -0.4,\n",
       " 1.6,\n",
       " 3.2,\n",
       " 2.1,\n",
       " 1.5,\n",
       " 1.5)"
      ]
     },
     "execution_count": 3,
     "metadata": {},
     "output_type": "execute_result"
    }
   ],
   "source": [
    "values"
   ]
  },
  {
   "cell_type": "code",
   "execution_count": 6,
   "metadata": {},
   "outputs": [
    {
     "ename": "TypeError",
     "evalue": "'tuple' object does not support item assignment",
     "output_type": "error",
     "traceback": [
      "\u001b[0;31m---------------------------------------------------------------------------\u001b[0m",
      "\u001b[0;31mTypeError\u001b[0m                                 Traceback (most recent call last)",
      "\u001b[0;32m<ipython-input-6-e8a49ef8ff86>\u001b[0m in \u001b[0;36m<module>\u001b[0;34m()\u001b[0m\n\u001b[0;32m----> 1\u001b[0;31m \u001b[0mvalues\u001b[0m\u001b[0;34m[\u001b[0m\u001b[0;36m10\u001b[0m\u001b[0;34m]\u001b[0m \u001b[0;34m=\u001b[0m \u001b[0;36m1.5\u001b[0m\u001b[0;34m\u001b[0m\u001b[0m\n\u001b[0m",
      "\u001b[0;31mTypeError\u001b[0m: 'tuple' object does not support item assignment"
     ]
    }
   ],
   "source": [
    "values[10] = 1.5"
   ]
  },
  {
   "cell_type": "markdown",
   "metadata": {},
   "source": [
    "튜플로 선언된 데이터형은 선언 후, 추가 assignment가 되지 않는 점 참조! (시리즈나 프레임 안에 넣은 후, 시리즈 및 프레임 내 데이터는 수정 가능!)"
   ]
  },
  {
   "cell_type": "code",
   "execution_count": 7,
   "metadata": {},
   "outputs": [
    {
     "data": {
      "text/plain": [
       "0     2.2\n",
       "1     3.4\n",
       "2     2.8\n",
       "3     1.6\n",
       "4     2.3\n",
       "5     2.7\n",
       "6     3.4\n",
       "7     3.2\n",
       "8     2.8\n",
       "9     3.8\n",
       "10   -0.4\n",
       "11    1.6\n",
       "12    3.2\n",
       "13    2.1\n",
       "14    1.5\n",
       "15    1.5\n",
       "dtype: float64"
      ]
     },
     "execution_count": 7,
     "metadata": {},
     "output_type": "execute_result"
    }
   ],
   "source": [
    "inflation = pd.Series(values)\n",
    "inflation"
   ]
  },
  {
   "cell_type": "code",
   "execution_count": 8,
   "metadata": {},
   "outputs": [
    {
     "data": {
      "text/plain": [
       "16"
      ]
     },
     "execution_count": 8,
     "metadata": {},
     "output_type": "execute_result"
    }
   ],
   "source": [
    "len(inflation)"
   ]
  },
  {
   "cell_type": "markdown",
   "metadata": {},
   "source": [
    "len(.) 함수는 파이썬 내장함수이므로 어디에나 쓸 수 있다! 길이를 체크하는 함수인 점 확인!\n",
    "\n",
    "방금 만든 것처럼, 간단한 시리즈는 정수형 인덱스가 기본이다. \n",
    "(각 데이터 앞에 정수 0,1,2,... 로 레이블이 되어있다!)\n",
    "\n",
    "시리즈의 value 속성 값 (attribute)은 시리즈 안에 있는 데이터 모든 값을 담는 리스트이다.\n",
    "쉽게 말해, 시리즈 안에 있는 값들을 다 가져와봐~~ 라고 명령하면 리스트 형식으로 리턴해준다.\n",
    "바로 아래를 확인!"
   ]
  },
  {
   "cell_type": "code",
   "execution_count": 9,
   "metadata": {},
   "outputs": [
    {
     "data": {
      "text/plain": [
       "array([ 2.2,  3.4,  2.8,  1.6,  2.3,  2.7,  3.4,  3.2,  2.8,  3.8, -0.4,\n",
       "        1.6,  3.2,  2.1,  1.5,  1.5])"
      ]
     },
     "execution_count": 9,
     "metadata": {},
     "output_type": "execute_result"
    }
   ],
   "source": [
    "inflation.values"
   ]
  },
  {
   "cell_type": "markdown",
   "metadata": {},
   "source": [
    ".values를 이용하면, 시리즈 안에 담긴 속성 값들을 모두 리턴해준다. \n",
    "(추후 다룰 '데이터 프레임'에서도 확인해봐야함)\n",
    "\n",
    "이어 .index는 특정한 값이 아닌 \"또 다른 pandas 데이터 타입\"으로 범위의 표현을 리턴한다."
   ]
  },
  {
   "cell_type": "code",
   "execution_count": 10,
   "metadata": {},
   "outputs": [
    {
     "data": {
      "text/plain": [
       "RangeIndex(start=0, stop=16, step=1)"
      ]
     },
     "execution_count": 10,
     "metadata": {},
     "output_type": "execute_result"
    }
   ],
   "source": [
    "inflation.index"
   ]
  },
  {
   "cell_type": "code",
   "execution_count": 11,
   "metadata": {},
   "outputs": [
    {
     "data": {
      "text/plain": [
       "array([ 0,  1,  2,  3,  4,  5,  6,  7,  8,  9, 10, 11, 12, 13, 14, 15])"
      ]
     },
     "execution_count": 11,
     "metadata": {},
     "output_type": "execute_result"
    }
   ],
   "source": [
    "inflation.index.values"
   ]
  },
  {
   "cell_type": "markdown",
   "metadata": {},
   "source": [
    "말 그대로, .index는 또다른 pandas 데이터 타입이기 때문에\n",
    "실제 index의 표현 값 (속성값:attribution)를 확인하기 위해서는 \n",
    "index.values를 사용해야한다"
   ]
  },
  {
   "cell_type": "markdown",
   "metadata": {},
   "source": [
    "\n",
    "Pandas가 시리즈나 프레임을 만들 때, 입력에 넣었던 데이터 구조를 그대로 사용하지는 않는다!\n",
    "시리즈나 프레임을 만들면, 해당 데이터에 알맞게 \"Numpy 배열\"을 저장공간으로 사용한다.\n",
    "\n",
    "그렇기 때문에, 해당 numpy 배열이 나타내는 값을 변형할 수 있다.\n",
    "\n",
    "다시 말하면, 위의 튜플은 데이터 변형이 되지 않지만 튜플로 시리즈를 만들었을 때 시리즈는 데이터 변형이 된다."
   ]
  },
  {
   "cell_type": "code",
   "execution_count": 12,
   "metadata": {
    "collapsed": true
   },
   "outputs": [],
   "source": [
    "inflation.values[-1]=1.6"
   ]
  },
  {
   "cell_type": "code",
   "execution_count": 13,
   "metadata": {},
   "outputs": [
    {
     "data": {
      "text/plain": [
       "0     2.2\n",
       "1     3.4\n",
       "2     2.8\n",
       "3     1.6\n",
       "4     2.3\n",
       "5     2.7\n",
       "6     3.4\n",
       "7     3.2\n",
       "8     2.8\n",
       "9     3.8\n",
       "10   -0.4\n",
       "11    1.6\n",
       "12    3.2\n",
       "13    2.1\n",
       "14    1.5\n",
       "15    1.6\n",
       "dtype: float64"
      ]
     },
     "execution_count": 13,
     "metadata": {},
     "output_type": "execute_result"
    }
   ],
   "source": [
    "inflation"
   ]
  },
  {
   "cell_type": "markdown",
   "metadata": {},
   "source": [
    "이렇게 시리즈를 쓸 때, 한 가지 주의해야할 사항이 있다.\n",
    "이 시리즈가 단순히 배열처럼 보이고, 배열처럼 행동한다는 것이다!\n",
    "(이럴 거면 그냥 배열을 쓰지...)\n",
    "\n",
    "우리는 각 연도에 따른 데이터를 저장할 것이니깐! 해당 연도와 데이터 값 자체를 동시에 사용하고 싶은 것이 다양하다.\n",
    "\n",
    "한 가지 대안으로, 연도를 담은 시리즈와 인플레이션 값을 담은 시리즈 두개를 만들어서 동시에 다루면 되지 않을까? << 개소리..\n",
    "\n",
    "현재 인덱스가 0,1,2,...로 되어 있는데 이제 Index를 조정해보자.\n",
    "\n",
    "딕셔너리(Dictionary) 자료형으로 시리즈를 생성하면 (생성자를 호출하면)\n",
    "커스터마이즈된 인덱스를 가진 시리즈를 만들 수 있다."
   ]
  },
  {
   "cell_type": "code",
   "execution_count": 17,
   "metadata": {},
   "outputs": [],
   "source": [
    "import numpy as np\n",
    "inflation = pd.Series({1999 : 2.2, 2000 : 3.4, 2001 : 2.8, 2002 : 1.6, 2003 : 2.3, 2004 : 2.7, 2005 : 3.4, 2006 : 3.2, 2007 : 2.8, 2008 : 3.8, 2009 : -0.4, \n",
    "                       2010 : 1.6, 2011 : 3.2, 2012 : 2.1, 2013 : 1.5, 2014 : 1.6, 2015 : np.nan})"
   ]
  },
  {
   "cell_type": "markdown",
   "metadata": {},
   "source": [
    "위의 예는 딕셔너리 자료형을 통해, 시리즈를 생성한 예이다.\n",
    "\n",
    "각 인덱스는 연도를, 시리즈 속성값은 인플레이션 값을 의미한다.\n",
    "\n",
    "마지막 2015년 데이터는 np.nan을 위해 결측값으로 지정해주었다!"
   ]
  },
  {
   "cell_type": "code",
   "execution_count": 18,
   "metadata": {},
   "outputs": [
    {
     "data": {
      "text/plain": [
       "1999    2.2\n",
       "2000    3.4\n",
       "2001    2.8\n",
       "2002    1.6\n",
       "2003    2.3\n",
       "2004    2.7\n",
       "2005    3.4\n",
       "2006    3.2\n",
       "2007    2.8\n",
       "2008    3.8\n",
       "2009   -0.4\n",
       "2010    1.6\n",
       "2011    3.2\n",
       "2012    2.1\n",
       "2013    1.5\n",
       "2014    1.6\n",
       "2015    NaN\n",
       "dtype: float64"
      ]
     },
     "execution_count": 18,
     "metadata": {},
     "output_type": "execute_result"
    }
   ],
   "source": [
    "inflation"
   ]
  },
  {
   "cell_type": "markdown",
   "metadata": {},
   "source": [
    "아래와 같은 방법으로도 같은 시리즈를 만들 수 있다!"
   ]
  },
  {
   "cell_type": "code",
   "execution_count": 20,
   "metadata": {},
   "outputs": [],
   "source": [
    "inflation = pd.Series((2.2, 3.4, 2.8, 1.6, 2.3, 2.7, 3.4, 3.2, 2.8, 3.8, \n",
    "-0.4, 1.6, 3.2, 2.1, 1.6, 1.5))\n",
    "inflation.index = pd.Index(range(1999, 2015))\n",
    "inflation[2015] = np.nan"
   ]
  },
  {
   "cell_type": "code",
   "execution_count": 21,
   "metadata": {},
   "outputs": [
    {
     "data": {
      "text/plain": [
       "1999    2.2\n",
       "2000    3.4\n",
       "2001    2.8\n",
       "2002    1.6\n",
       "2003    2.3\n",
       "2004    2.7\n",
       "2005    3.4\n",
       "2006    3.2\n",
       "2007    2.8\n",
       "2008    3.8\n",
       "2009   -0.4\n",
       "2010    1.6\n",
       "2011    3.2\n",
       "2012    2.1\n",
       "2013    1.6\n",
       "2014    1.5\n",
       "2015    NaN\n",
       "dtype: float64"
      ]
     },
     "execution_count": 21,
     "metadata": {},
     "output_type": "execute_result"
    }
   ],
   "source": [
    "inflation"
   ]
  },
  {
   "cell_type": "markdown",
   "metadata": {},
   "source": [
    "시리즈 값과 인덱스는 이를 나타내는 이름을 가질 수 있다.\n",
    "\n",
    "즉 연도와 인플레이션 값이라는 정보를 시리즈 안에 담을 수 있다.\n",
    "\n",
    "name 속성 값으로 접근하고 할당하면 된다."
   ]
  },
  {
   "cell_type": "code",
   "execution_count": 22,
   "metadata": {
    "collapsed": true
   },
   "outputs": [],
   "source": [
    "inflation.index.name = \"Year\"\n",
    "inflation.name = \"Inflation Rate: %\""
   ]
  },
  {
   "cell_type": "code",
   "execution_count": 23,
   "metadata": {},
   "outputs": [
    {
     "data": {
      "text/plain": [
       "Year\n",
       "1999    2.2\n",
       "2000    3.4\n",
       "2001    2.8\n",
       "2002    1.6\n",
       "2003    2.3\n",
       "2004    2.7\n",
       "2005    3.4\n",
       "2006    3.2\n",
       "2007    2.8\n",
       "2008    3.8\n",
       "2009   -0.4\n",
       "2010    1.6\n",
       "2011    3.2\n",
       "2012    2.1\n",
       "2013    1.6\n",
       "2014    1.5\n",
       "2015    NaN\n",
       "Name: Inflation Rate: %, dtype: float64"
      ]
     },
     "execution_count": 23,
     "metadata": {},
     "output_type": "execute_result"
    }
   ],
   "source": [
    "inflation"
   ]
  },
  {
   "cell_type": "code",
   "execution_count": 25,
   "metadata": {},
   "outputs": [
    {
     "data": {
      "text/plain": [
       "Year\n",
       "1999    2.2\n",
       "2000    3.4\n",
       "2001    2.8\n",
       "2002    1.6\n",
       "2003    2.3\n",
       "Name: Inflation Rate: %, dtype: float64"
      ]
     },
     "execution_count": 25,
     "metadata": {},
     "output_type": "execute_result"
    }
   ],
   "source": [
    "inflation.head()"
   ]
  },
  {
   "cell_type": "markdown",
   "metadata": {},
   "source": [
    "head() 와 tail() 함수는 각각 상위 5개, 하위 5개의 행을 리턴하는 함수이니 참조~\n",
    "\n",
    "이처럼, 시리즈는 1차원 벡터를 다루기 위한 pandas 데이터구조이다.\n",
    "2차원 데이터부터는 데이터 프레임을 활용한다!"
   ]
  },
  {
   "cell_type": "markdown",
   "metadata": {},
   "source": [
    "\n",
    "\n",
    "데이터 프레임\n",
    "\n",
    "- 인덱스가 있는 행과 열로 구성된 데이블.\n",
    "- 2차원 numpy 배열, 튜플로 구성된 리스트, 딕셔너리, 또 다른 데이터 프레임으로 생성 가능\n",
    "- 딕셔너리의 키는 열 이름, 값은 열을 구성하는 값이 된다.\n",
    "- 배열을 사용하여 데이터 프레임을 생성할 때는 옵셔널 파라미터 columns를 사용해 열 이름으로 된 시퀀스를 전달할 수 있음\n",
    "- numpy의 접근 방식에 따라서 데이터 프레임 인덱스는 0번째 축(axis, 수직)이고, 열은 1번째 축(axis, 수평)이다.\n",
    "\n",
    "아래는 niaaa-report2009.csv 파일을 데이터 프레임으로 읽는 예시이다.\n",
    "해당 데이터는 2009년, 각 주의 알콜 종류별 1인당 알콜 소비량과 관련한 데이터이다.\n",
    "\n",
    "pandas 내, read_csv 함수를 통해 손쉽게 csv 파일을 읽을 수 있다. \n",
    "\n",
    "(* 데이터 양식)\n",
    "State Beer Wine Spirits\n",
    "Alabama 1.20 0.22 0.58\n",
    "...\n",
    "\n",
    "index_col을 State로 직접 지정해주었기 때문에, 아래와 같이 State를 Index로 나머지 columns의 값을 속성값으로 표기하는 것을 확인하자.\n"
   ]
  },
  {
   "cell_type": "code",
   "execution_count": 26,
   "metadata": {},
   "outputs": [
    {
     "data": {
      "text/html": [
       "<div>\n",
       "<style>\n",
       "    .dataframe thead tr:only-child th {\n",
       "        text-align: right;\n",
       "    }\n",
       "\n",
       "    .dataframe thead th {\n",
       "        text-align: left;\n",
       "    }\n",
       "\n",
       "    .dataframe tbody tr th {\n",
       "        vertical-align: top;\n",
       "    }\n",
       "</style>\n",
       "<table border=\"1\" class=\"dataframe\">\n",
       "  <thead>\n",
       "    <tr style=\"text-align: right;\">\n",
       "      <th></th>\n",
       "      <th>Beer</th>\n",
       "      <th>Wine</th>\n",
       "      <th>Spirits</th>\n",
       "    </tr>\n",
       "    <tr>\n",
       "      <th>State</th>\n",
       "      <th></th>\n",
       "      <th></th>\n",
       "      <th></th>\n",
       "    </tr>\n",
       "  </thead>\n",
       "  <tbody>\n",
       "    <tr>\n",
       "      <th>Alabama</th>\n",
       "      <td>1.20</td>\n",
       "      <td>0.22</td>\n",
       "      <td>0.58</td>\n",
       "    </tr>\n",
       "    <tr>\n",
       "      <th>Alaska</th>\n",
       "      <td>1.31</td>\n",
       "      <td>0.54</td>\n",
       "      <td>1.16</td>\n",
       "    </tr>\n",
       "    <tr>\n",
       "      <th>Arizona</th>\n",
       "      <td>1.19</td>\n",
       "      <td>0.38</td>\n",
       "      <td>0.74</td>\n",
       "    </tr>\n",
       "    <tr>\n",
       "      <th>Arkansas</th>\n",
       "      <td>1.07</td>\n",
       "      <td>0.17</td>\n",
       "      <td>0.60</td>\n",
       "    </tr>\n",
       "    <tr>\n",
       "      <th>California</th>\n",
       "      <td>1.05</td>\n",
       "      <td>0.55</td>\n",
       "      <td>0.73</td>\n",
       "    </tr>\n",
       "    <tr>\n",
       "      <th>Colorado</th>\n",
       "      <td>1.22</td>\n",
       "      <td>0.46</td>\n",
       "      <td>1.00</td>\n",
       "    </tr>\n",
       "    <tr>\n",
       "      <th>Connecticut</th>\n",
       "      <td>0.89</td>\n",
       "      <td>0.59</td>\n",
       "      <td>0.86</td>\n",
       "    </tr>\n",
       "    <tr>\n",
       "      <th>Delaware</th>\n",
       "      <td>1.31</td>\n",
       "      <td>0.57</td>\n",
       "      <td>1.25</td>\n",
       "    </tr>\n",
       "    <tr>\n",
       "      <th>District of Columbia</th>\n",
       "      <td>1.26</td>\n",
       "      <td>1.00</td>\n",
       "      <td>1.64</td>\n",
       "    </tr>\n",
       "    <tr>\n",
       "      <th>Florida</th>\n",
       "      <td>1.21</td>\n",
       "      <td>0.48</td>\n",
       "      <td>0.92</td>\n",
       "    </tr>\n",
       "    <tr>\n",
       "      <th>Georgia</th>\n",
       "      <td>1.08</td>\n",
       "      <td>0.25</td>\n",
       "      <td>0.64</td>\n",
       "    </tr>\n",
       "    <tr>\n",
       "      <th>Hawaii</th>\n",
       "      <td>1.30</td>\n",
       "      <td>0.53</td>\n",
       "      <td>0.75</td>\n",
       "    </tr>\n",
       "    <tr>\n",
       "      <th>Idaho</th>\n",
       "      <td>1.05</td>\n",
       "      <td>0.92</td>\n",
       "      <td>0.70</td>\n",
       "    </tr>\n",
       "    <tr>\n",
       "      <th>Illinois</th>\n",
       "      <td>1.22</td>\n",
       "      <td>0.39</td>\n",
       "      <td>0.73</td>\n",
       "    </tr>\n",
       "    <tr>\n",
       "      <th>Indiana</th>\n",
       "      <td>1.09</td>\n",
       "      <td>0.25</td>\n",
       "      <td>0.73</td>\n",
       "    </tr>\n",
       "    <tr>\n",
       "      <th>Iowa</th>\n",
       "      <td>1.42</td>\n",
       "      <td>0.18</td>\n",
       "      <td>0.72</td>\n",
       "    </tr>\n",
       "    <tr>\n",
       "      <th>Kansas</th>\n",
       "      <td>1.18</td>\n",
       "      <td>0.14</td>\n",
       "      <td>0.67</td>\n",
       "    </tr>\n",
       "    <tr>\n",
       "      <th>Kentucky</th>\n",
       "      <td>1.11</td>\n",
       "      <td>0.18</td>\n",
       "      <td>0.65</td>\n",
       "    </tr>\n",
       "    <tr>\n",
       "      <th>Louisiana</th>\n",
       "      <td>1.50</td>\n",
       "      <td>0.28</td>\n",
       "      <td>0.85</td>\n",
       "    </tr>\n",
       "    <tr>\n",
       "      <th>Maine</th>\n",
       "      <td>1.24</td>\n",
       "      <td>0.42</td>\n",
       "      <td>0.83</td>\n",
       "    </tr>\n",
       "    <tr>\n",
       "      <th>Maryland</th>\n",
       "      <td>0.97</td>\n",
       "      <td>0.37</td>\n",
       "      <td>0.87</td>\n",
       "    </tr>\n",
       "    <tr>\n",
       "      <th>Massachusetts</th>\n",
       "      <td>1.02</td>\n",
       "      <td>0.61</td>\n",
       "      <td>0.84</td>\n",
       "    </tr>\n",
       "    <tr>\n",
       "      <th>Michigan</th>\n",
       "      <td>1.10</td>\n",
       "      <td>0.31</td>\n",
       "      <td>0.80</td>\n",
       "    </tr>\n",
       "    <tr>\n",
       "      <th>Minnesota</th>\n",
       "      <td>1.19</td>\n",
       "      <td>0.37</td>\n",
       "      <td>1.04</td>\n",
       "    </tr>\n",
       "    <tr>\n",
       "      <th>Mississippi</th>\n",
       "      <td>1.41</td>\n",
       "      <td>0.11</td>\n",
       "      <td>0.71</td>\n",
       "    </tr>\n",
       "    <tr>\n",
       "      <th>Missouri</th>\n",
       "      <td>1.30</td>\n",
       "      <td>0.30</td>\n",
       "      <td>0.83</td>\n",
       "    </tr>\n",
       "    <tr>\n",
       "      <th>Montana</th>\n",
       "      <td>1.66</td>\n",
       "      <td>0.45</td>\n",
       "      <td>0.88</td>\n",
       "    </tr>\n",
       "    <tr>\n",
       "      <th>Nebraska</th>\n",
       "      <td>1.46</td>\n",
       "      <td>0.20</td>\n",
       "      <td>0.68</td>\n",
       "    </tr>\n",
       "    <tr>\n",
       "      <th>Nevada</th>\n",
       "      <td>1.57</td>\n",
       "      <td>0.58</td>\n",
       "      <td>1.15</td>\n",
       "    </tr>\n",
       "    <tr>\n",
       "      <th>New Hampshire</th>\n",
       "      <td>1.72</td>\n",
       "      <td>0.84</td>\n",
       "      <td>1.82</td>\n",
       "    </tr>\n",
       "    <tr>\n",
       "      <th>New Jersey</th>\n",
       "      <td>0.92</td>\n",
       "      <td>0.57</td>\n",
       "      <td>0.87</td>\n",
       "    </tr>\n",
       "    <tr>\n",
       "      <th>New Mexico</th>\n",
       "      <td>1.37</td>\n",
       "      <td>0.32</td>\n",
       "      <td>0.74</td>\n",
       "    </tr>\n",
       "    <tr>\n",
       "      <th>New York</th>\n",
       "      <td>0.91</td>\n",
       "      <td>0.46</td>\n",
       "      <td>0.69</td>\n",
       "    </tr>\n",
       "    <tr>\n",
       "      <th>North Carolina</th>\n",
       "      <td>1.10</td>\n",
       "      <td>0.34</td>\n",
       "      <td>0.58</td>\n",
       "    </tr>\n",
       "    <tr>\n",
       "      <th>North Dakota</th>\n",
       "      <td>1.63</td>\n",
       "      <td>0.25</td>\n",
       "      <td>1.16</td>\n",
       "    </tr>\n",
       "    <tr>\n",
       "      <th>Ohio</th>\n",
       "      <td>1.28</td>\n",
       "      <td>0.26</td>\n",
       "      <td>0.47</td>\n",
       "    </tr>\n",
       "    <tr>\n",
       "      <th>Oklahoma</th>\n",
       "      <td>1.18</td>\n",
       "      <td>0.18</td>\n",
       "      <td>0.58</td>\n",
       "    </tr>\n",
       "    <tr>\n",
       "      <th>Oregon</th>\n",
       "      <td>1.28</td>\n",
       "      <td>0.49</td>\n",
       "      <td>0.82</td>\n",
       "    </tr>\n",
       "    <tr>\n",
       "      <th>Pennsylvania</th>\n",
       "      <td>1.35</td>\n",
       "      <td>0.23</td>\n",
       "      <td>0.61</td>\n",
       "    </tr>\n",
       "    <tr>\n",
       "      <th>Rhode Island</th>\n",
       "      <td>1.10</td>\n",
       "      <td>0.53</td>\n",
       "      <td>0.92</td>\n",
       "    </tr>\n",
       "    <tr>\n",
       "      <th>South Carolina</th>\n",
       "      <td>1.36</td>\n",
       "      <td>0.24</td>\n",
       "      <td>0.77</td>\n",
       "    </tr>\n",
       "    <tr>\n",
       "      <th>South Dakota</th>\n",
       "      <td>1.53</td>\n",
       "      <td>0.22</td>\n",
       "      <td>0.88</td>\n",
       "    </tr>\n",
       "    <tr>\n",
       "      <th>Tennessee</th>\n",
       "      <td>1.05</td>\n",
       "      <td>0.21</td>\n",
       "      <td>0.57</td>\n",
       "    </tr>\n",
       "    <tr>\n",
       "      <th>Texas</th>\n",
       "      <td>1.42</td>\n",
       "      <td>0.28</td>\n",
       "      <td>0.58</td>\n",
       "    </tr>\n",
       "    <tr>\n",
       "      <th>Utah</th>\n",
       "      <td>0.70</td>\n",
       "      <td>0.17</td>\n",
       "      <td>0.46</td>\n",
       "    </tr>\n",
       "    <tr>\n",
       "      <th>Vermont</th>\n",
       "      <td>1.36</td>\n",
       "      <td>0.63</td>\n",
       "      <td>0.70</td>\n",
       "    </tr>\n",
       "    <tr>\n",
       "      <th>Virginia</th>\n",
       "      <td>1.11</td>\n",
       "      <td>0.43</td>\n",
       "      <td>0.59</td>\n",
       "    </tr>\n",
       "    <tr>\n",
       "      <th>Washington</th>\n",
       "      <td>1.09</td>\n",
       "      <td>0.51</td>\n",
       "      <td>0.74</td>\n",
       "    </tr>\n",
       "    <tr>\n",
       "      <th>West Virginia</th>\n",
       "      <td>1.24</td>\n",
       "      <td>0.10</td>\n",
       "      <td>0.45</td>\n",
       "    </tr>\n",
       "    <tr>\n",
       "      <th>Wisconsin</th>\n",
       "      <td>1.49</td>\n",
       "      <td>0.31</td>\n",
       "      <td>1.16</td>\n",
       "    </tr>\n",
       "    <tr>\n",
       "      <th>Wyoming</th>\n",
       "      <td>1.45</td>\n",
       "      <td>0.22</td>\n",
       "      <td>1.10</td>\n",
       "    </tr>\n",
       "  </tbody>\n",
       "</table>\n",
       "</div>"
      ],
      "text/plain": [
       "                      Beer  Wine  Spirits\n",
       "State                                    \n",
       "Alabama               1.20  0.22     0.58\n",
       "Alaska                1.31  0.54     1.16\n",
       "Arizona               1.19  0.38     0.74\n",
       "Arkansas              1.07  0.17     0.60\n",
       "California            1.05  0.55     0.73\n",
       "Colorado              1.22  0.46     1.00\n",
       "Connecticut           0.89  0.59     0.86\n",
       "Delaware              1.31  0.57     1.25\n",
       "District of Columbia  1.26  1.00     1.64\n",
       "Florida               1.21  0.48     0.92\n",
       "Georgia               1.08  0.25     0.64\n",
       "Hawaii                1.30  0.53     0.75\n",
       "Idaho                 1.05  0.92     0.70\n",
       "Illinois              1.22  0.39     0.73\n",
       "Indiana               1.09  0.25     0.73\n",
       "Iowa                  1.42  0.18     0.72\n",
       "Kansas                1.18  0.14     0.67\n",
       "Kentucky              1.11  0.18     0.65\n",
       "Louisiana             1.50  0.28     0.85\n",
       "Maine                 1.24  0.42     0.83\n",
       "Maryland              0.97  0.37     0.87\n",
       "Massachusetts         1.02  0.61     0.84\n",
       "Michigan              1.10  0.31     0.80\n",
       "Minnesota             1.19  0.37     1.04\n",
       "Mississippi           1.41  0.11     0.71\n",
       "Missouri              1.30  0.30     0.83\n",
       "Montana               1.66  0.45     0.88\n",
       "Nebraska              1.46  0.20     0.68\n",
       "Nevada                1.57  0.58     1.15\n",
       "New Hampshire         1.72  0.84     1.82\n",
       "New Jersey            0.92  0.57     0.87\n",
       "New Mexico            1.37  0.32     0.74\n",
       "New York              0.91  0.46     0.69\n",
       "North Carolina        1.10  0.34     0.58\n",
       "North Dakota          1.63  0.25     1.16\n",
       "Ohio                  1.28  0.26     0.47\n",
       "Oklahoma              1.18  0.18     0.58\n",
       "Oregon                1.28  0.49     0.82\n",
       "Pennsylvania          1.35  0.23     0.61\n",
       "Rhode Island          1.10  0.53     0.92\n",
       "South Carolina        1.36  0.24     0.77\n",
       "South Dakota          1.53  0.22     0.88\n",
       "Tennessee             1.05  0.21     0.57\n",
       "Texas                 1.42  0.28     0.58\n",
       "Utah                  0.70  0.17     0.46\n",
       "Vermont               1.36  0.63     0.70\n",
       "Virginia              1.11  0.43     0.59\n",
       "Washington            1.09  0.51     0.74\n",
       "West Virginia         1.24  0.10     0.45\n",
       "Wisconsin             1.49  0.31     1.16\n",
       "Wyoming               1.45  0.22     1.10"
      ]
     },
     "execution_count": 26,
     "metadata": {},
     "output_type": "execute_result"
    }
   ],
   "source": [
    "alco2009 = pd.read_csv(\"niaaa-report2009.csv\", index_col=\"State\")\n",
    "alco2009"
   ]
  },
  {
   "cell_type": "markdown",
   "metadata": {},
   "source": [
    "데이터 프레임 생성 시, 튜플로 구성된 배열을 직접 넣어도 되고\n",
    "\n",
    "예를 들면: [(1.20, 0.22, 0.58), (..), (..), ..] 이렇게 데이터를 직접 구성하고 \n",
    "\n",
    "columns = (\"Beer\", \"Wine, \"Spirits\"), \n",
    "\n",
    "index=(\"Alabama\", \"Alaska\", ...) 이렇게 인덱스도 직접 구성\n",
    "\n",
    "아니면!!\n",
    "\n",
    "딕셔너리 형태로 직접 넣어도 된다. {\"Beer\":(1.20,...), ...}, index=(\"Alabama\",...) 이렇게!\n",
    "\n",
    "\n",
    "데이터 프레임의 개별 열에 접근할 때는 딕셔너리나 오브젝트(obejct) 구문을 이용해야한다.\n",
    "\n",
    "다만, 새로운 열을 추가할 때는 반드시 딕셔너리를 사용해야한다."
   ]
  },
  {
   "cell_type": "code",
   "execution_count": 27,
   "metadata": {},
   "outputs": [
    {
     "data": {
      "text/plain": [
       "State\n",
       "Alabama       0.22\n",
       "Alaska        0.54\n",
       "Arizona       0.38\n",
       "Arkansas      0.17\n",
       "California    0.55\n",
       "Name: Wine, dtype: float64"
      ]
     },
     "execution_count": 27,
     "metadata": {},
     "output_type": "execute_result"
    }
   ],
   "source": [
    "alco2009[\"Wine\"].head()"
   ]
  },
  {
   "cell_type": "code",
   "execution_count": 28,
   "metadata": {},
   "outputs": [
    {
     "data": {
      "text/plain": [
       "State\n",
       "Virginia         1.11\n",
       "Washington       1.09\n",
       "West Virginia    1.24\n",
       "Wisconsin        1.49\n",
       "Wyoming          1.45\n",
       "Name: Beer, dtype: float64"
      ]
     },
     "execution_count": 28,
     "metadata": {},
     "output_type": "execute_result"
    }
   ],
   "source": [
    "alco2009.Beer.tail()"
   ]
  },
  {
   "cell_type": "code",
   "execution_count": 29,
   "metadata": {
    "collapsed": true
   },
   "outputs": [],
   "source": [
    "alco2009[\"Total\"]=0 # 딕셔너리 형태로 새로운 열 생성"
   ]
  },
  {
   "cell_type": "code",
   "execution_count": 30,
   "metadata": {},
   "outputs": [
    {
     "data": {
      "text/html": [
       "<div>\n",
       "<style>\n",
       "    .dataframe thead tr:only-child th {\n",
       "        text-align: right;\n",
       "    }\n",
       "\n",
       "    .dataframe thead th {\n",
       "        text-align: left;\n",
       "    }\n",
       "\n",
       "    .dataframe tbody tr th {\n",
       "        vertical-align: top;\n",
       "    }\n",
       "</style>\n",
       "<table border=\"1\" class=\"dataframe\">\n",
       "  <thead>\n",
       "    <tr style=\"text-align: right;\">\n",
       "      <th></th>\n",
       "      <th>Beer</th>\n",
       "      <th>Wine</th>\n",
       "      <th>Spirits</th>\n",
       "      <th>Total</th>\n",
       "    </tr>\n",
       "    <tr>\n",
       "      <th>State</th>\n",
       "      <th></th>\n",
       "      <th></th>\n",
       "      <th></th>\n",
       "      <th></th>\n",
       "    </tr>\n",
       "  </thead>\n",
       "  <tbody>\n",
       "    <tr>\n",
       "      <th>Alabama</th>\n",
       "      <td>1.20</td>\n",
       "      <td>0.22</td>\n",
       "      <td>0.58</td>\n",
       "      <td>0</td>\n",
       "    </tr>\n",
       "    <tr>\n",
       "      <th>Alaska</th>\n",
       "      <td>1.31</td>\n",
       "      <td>0.54</td>\n",
       "      <td>1.16</td>\n",
       "      <td>0</td>\n",
       "    </tr>\n",
       "    <tr>\n",
       "      <th>Arizona</th>\n",
       "      <td>1.19</td>\n",
       "      <td>0.38</td>\n",
       "      <td>0.74</td>\n",
       "      <td>0</td>\n",
       "    </tr>\n",
       "    <tr>\n",
       "      <th>Arkansas</th>\n",
       "      <td>1.07</td>\n",
       "      <td>0.17</td>\n",
       "      <td>0.60</td>\n",
       "      <td>0</td>\n",
       "    </tr>\n",
       "    <tr>\n",
       "      <th>California</th>\n",
       "      <td>1.05</td>\n",
       "      <td>0.55</td>\n",
       "      <td>0.73</td>\n",
       "      <td>0</td>\n",
       "    </tr>\n",
       "  </tbody>\n",
       "</table>\n",
       "</div>"
      ],
      "text/plain": [
       "            Beer  Wine  Spirits  Total\n",
       "State                                 \n",
       "Alabama     1.20  0.22     0.58      0\n",
       "Alaska      1.31  0.54     1.16      0\n",
       "Arizona     1.19  0.38     0.74      0\n",
       "Arkansas    1.07  0.17     0.60      0\n",
       "California  1.05  0.55     0.73      0"
      ]
     },
     "execution_count": 30,
     "metadata": {},
     "output_type": "execute_result"
    }
   ],
   "source": [
    "alco2009.head()"
   ]
  },
  {
   "cell_type": "code",
   "execution_count": null,
   "metadata": {
    "collapsed": true
   },
   "outputs": [],
   "source": []
  }
 ],
 "metadata": {
  "kernelspec": {
   "display_name": "Python 2",
   "language": "python",
   "name": "python2"
  },
  "language_info": {
   "codemirror_mode": {
    "name": "ipython",
    "version": 2
   },
   "file_extension": ".py",
   "mimetype": "text/x-python",
   "name": "python",
   "nbconvert_exporter": "python",
   "pygments_lexer": "ipython2",
   "version": "2.7.12"
  }
 },
 "nbformat": 4,
 "nbformat_minor": 2
}
