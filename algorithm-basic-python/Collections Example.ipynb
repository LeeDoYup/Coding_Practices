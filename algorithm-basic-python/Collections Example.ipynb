{
 "cells": [
  {
   "cell_type": "markdown",
   "metadata": {},
   "source": [
    "# Python Collections Module\n",
    "\n",
    "## 제공 모듈\n",
    "python collections 모듈은 tuple, dict 등과 같은 자료구조의 확장 데이터 구조를 제공합니다.\n",
    "제공 요소는 아래와 같습니다.\n",
    "\n",
    "- namedtuple : tuple 타입의 subclass\n",
    "- OrderedDict : Dict 타입의 subclass. Entry의 순서(order)를 기억\n",
    "- Counter : Dict 타입의 subclass. counting hashable object\n",
    "- defaultdict : Dict 타입의 subclass. Missing value 제공\n",
    "- deque : List와 유사한 데이터 contrainer. 양방향 Queue. 시작과 끝 방향에서 append와 pop이 빠름 (queue, stack)"
   ]
  },
  {
   "cell_type": "markdown",
   "metadata": {},
   "source": [
    "## Deque\n",
    "Deque 형식의 새로운 인스턴스를 만듦.\n",
    "\n",
    "양방향에서 처리할 수 있는 queue 자료 구조로, 기존의 queue는 초기 entry 제거 시에 모든 entry가 한 칸씩 이동해야하는 문제로 속도가 느림.\n",
    "\n",
    "### 제공 메소드 (method)\n",
    "- append\n",
    "- appendleft\n",
    "- clear\n",
    "- count\n",
    "- extend\n",
    "- extendleft\n",
    "- pop\n",
    "- popleft\n",
    "- remove\n",
    "- reverse\n",
    "- rotate : d.rotate(n) --> 모두 n 칸씩 이동"
   ]
  },
  {
   "cell_type": "code",
   "execution_count": 1,
   "metadata": {
    "collapsed": true
   },
   "outputs": [],
   "source": [
    "from collections import deque"
   ]
  },
  {
   "cell_type": "code",
   "execution_count": 2,
   "metadata": {},
   "outputs": [
    {
     "name": "stdout",
     "output_type": "stream",
     "text": [
      "Deque:  deque([1, 2, 3, 4, 5])\n"
     ]
    }
   ],
   "source": [
    "d = deque([1,2,3,4,5])\n",
    "print \"Deque: \", d"
   ]
  },
  {
   "cell_type": "code",
   "execution_count": 3,
   "metadata": {},
   "outputs": [
    {
     "name": "stdout",
     "output_type": "stream",
     "text": [
      "Deque:  deque([1, 2, 3, 4, 5, 6])\n"
     ]
    }
   ],
   "source": [
    "d.append(6)\n",
    "print \"Deque: \", d"
   ]
  },
  {
   "cell_type": "code",
   "execution_count": 4,
   "metadata": {},
   "outputs": [
    {
     "name": "stdout",
     "output_type": "stream",
     "text": [
      "Deque:  deque([0, 1, 2, 3, 4, 5, 6])\n"
     ]
    }
   ],
   "source": [
    "d.appendleft(0)\n",
    "print \"Deque: \", d"
   ]
  },
  {
   "cell_type": "code",
   "execution_count": 5,
   "metadata": {},
   "outputs": [
    {
     "name": "stdout",
     "output_type": "stream",
     "text": [
      "Deque:  deque([0, 1, 2, 3, 4, 5, 6, 7, 8])\n"
     ]
    }
   ],
   "source": [
    "d.extend([7,8])\n",
    "print \"Deque: \", d"
   ]
  },
  {
   "cell_type": "code",
   "execution_count": 6,
   "metadata": {},
   "outputs": [
    {
     "name": "stdout",
     "output_type": "stream",
     "text": [
      "Deque:  deque([0, 1, 2, 3, 4, 5, 6, 7, 8, [9, 10]])\n"
     ]
    }
   ],
   "source": [
    "d.append([9,10])\n",
    "print \"Deque: \", d"
   ]
  },
  {
   "cell_type": "markdown",
   "metadata": {},
   "source": [
    "위와 같이 extend와 append는 차이가 있음\n",
    "\n",
    "extend는 여러 요소를 하나하나 deque에 추가하지만, \n",
    "\n",
    "append는 여러 요소를 주어주더라도 이를 하나의 객체로 인식하여 그 자체를 추가함"
   ]
  },
  {
   "cell_type": "code",
   "execution_count": 7,
   "metadata": {},
   "outputs": [
    {
     "name": "stdout",
     "output_type": "stream",
     "text": [
      "Deque:  deque([0, 1, 2, 3, 4, 5, 6, 7, 8])\n"
     ]
    }
   ],
   "source": [
    "d.remove([9,10])\n",
    "print \"Deque: \", d"
   ]
  },
  {
   "cell_type": "code",
   "execution_count": 8,
   "metadata": {},
   "outputs": [
    {
     "name": "stdout",
     "output_type": "stream",
     "text": [
      "Deque:  deque([0, 1, 2, 3, 4, 5, 6, 7])\n",
      "Pop:  8\n"
     ]
    }
   ],
   "source": [
    "value = d.pop()\n",
    "print \"Deque: \", d\n",
    "print \"Pop: \", value"
   ]
  },
  {
   "cell_type": "code",
   "execution_count": 9,
   "metadata": {},
   "outputs": [
    {
     "name": "stdout",
     "output_type": "stream",
     "text": [
      "Deque:  deque([1, 2, 3, 4, 5, 6, 7])\n",
      "Popleft:  0\n"
     ]
    }
   ],
   "source": [
    "value = d.popleft()\n",
    "print \"Deque: \", d\n",
    "print \"Popleft: \", value"
   ]
  },
  {
   "cell_type": "code",
   "execution_count": 10,
   "metadata": {},
   "outputs": [
    {
     "name": "stdout",
     "output_type": "stream",
     "text": [
      "Deque:  deque([7, 1, 2, 3, 4, 5, 6])\n"
     ]
    }
   ],
   "source": [
    "d.rotate(1)\n",
    "print \"Deque: \", d"
   ]
  },
  {
   "cell_type": "code",
   "execution_count": 11,
   "metadata": {},
   "outputs": [
    {
     "name": "stdout",
     "output_type": "stream",
     "text": [
      "Deque:  deque([1, 2, 3, 4, 5, 6, 7])\n"
     ]
    }
   ],
   "source": [
    "d.rotate(-1)\n",
    "print \"Deque: \", d"
   ]
  },
  {
   "cell_type": "code",
   "execution_count": 12,
   "metadata": {},
   "outputs": [
    {
     "name": "stdout",
     "output_type": "stream",
     "text": [
      "Deque:  deque([5, 6, 7, 1, 2, 3, 4])\n"
     ]
    }
   ],
   "source": [
    "d.rotate(3)\n",
    "print \"Deque: \", d"
   ]
  },
  {
   "cell_type": "code",
   "execution_count": 13,
   "metadata": {},
   "outputs": [
    {
     "name": "stdout",
     "output_type": "stream",
     "text": [
      "Deque:  deque([1, 2, 3, 4, 5, 6, 7])\n"
     ]
    }
   ],
   "source": [
    "d.rotate(-3)\n",
    "print \"Deque: \", d"
   ]
  },
  {
   "cell_type": "code",
   "execution_count": null,
   "metadata": {
    "collapsed": true
   },
   "outputs": [],
   "source": []
  }
 ],
 "metadata": {
  "kernelspec": {
   "display_name": "Python 2",
   "language": "python",
   "name": "python2"
  },
  "language_info": {
   "codemirror_mode": {
    "name": "ipython",
    "version": 2
   },
   "file_extension": ".py",
   "mimetype": "text/x-python",
   "name": "python",
   "nbconvert_exporter": "python",
   "pygments_lexer": "ipython2",
   "version": "2.7.12"
  }
 },
 "nbformat": 4,
 "nbformat_minor": 2
}
