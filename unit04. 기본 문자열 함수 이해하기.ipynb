{
 "cells": [
  {
   "cell_type": "markdown",
   "metadata": {},
   "source": [
    "unit04. 기본 문자열 함수 이해하기\n",
    "\n",
    "대부분의 원천 data는 문자열 형태로 저장되어 있다. 이 unit에서는 텍스트 문자열을 읽고 변형하는 방법을 배운다.\n",
    "\n",
    "내장된 str 클래스의 멤버 함수들을 이용하여 변형한다.\n",
    "\n",
    "대소문자 변화(case conversion) 함수 : 원래 문자열 s 의 복사본을 반환 -> 알파벳이 아닌 문자는 무시한다. 정규화의 가장 중요한 요소\n",
    " - .lower() : 모든 문자를 소문자로 변환\n",
    " - .upper() : 모든 문자를 대문자로 변환\n",
    " - .capitalize() : 첫 번째 문자를 대문자로 변환, 나머지는 소문자로 변환\n",
    "\n",
    "프레디케이트(predicate) 함수 : 문자열 s가 특정 클래스에 속하는지에 따라 True나 False를 반환\n",
    " - .islower() : 모든 알파벳 문자가 소문자인지 체크\n",
    " - .isupper() : 모든 알파벳 문자가 대문자인지 체크\n",
    " - .isspace() : 모든 문자가 공백인지 체크\n",
    " - .isdigit() : 모든 문자가 0~9 사이의 숫자인지 체크\n",
    " - .isalpha() : 모든 문자가 a~z, A~Z 사이의 알파벳 문자인지 체크\n",
    " \n",
    "문자열의 바이너리 배열로의 표현(+decoding 함수) : 배열 앞에 b를 붙여서 표기 *파이썬2에서 구현 방식 다름\n",
    "ex) bin = b\"Hello\" \n",
    "    s = \"Hello\"\n",
    "-> python2 : bin[0] = 'H'\n",
    "             s[0] = 'H'\n",
    "-> python3 : bin[0] = 72\n",
    "             s[0] = 'H'\n",
    " - bin.decode() : 바이너리 배열을 문자열로 변환\n",
    " - s.encode() : 문자열을 바이너리 배열로 변환\n",
    "\n",
    "공백 처리 : 문자열 처리의 첫 번째 단계\n",
    " - .lstrip() : 문자열의 왼쪽 공백 제거\n",
    " - .rstrip() : 문자열의 오른쪽 공백 제거\n",
    " - .strip() : 문자열의 공백 제거(문자 사이의 공백은 제거하지 않는다.)"
   ]
  },
  {
   "cell_type": "code",
   "execution_count": 10,
   "metadata": {},
   "outputs": [
    {
     "name": "stdout",
     "output_type": "stream",
     "text": [
      "supersize\n",
      "SUPERSIZE\n",
      "Supersize\n"
     ]
    }
   ],
   "source": [
    "print(\"SuperSize\".lower())\n",
    "\n",
    "print(\"SuperSize\".upper())\n",
    "\n",
    "print(\"SuperSize\".capitalize())\n"
   ]
  },
  {
   "cell_type": "code",
   "execution_count": 13,
   "metadata": {},
   "outputs": [
    {
     "name": "stdout",
     "output_type": "stream",
     "text": [
      "False\n",
      "False\n",
      "True\n",
      "True\n",
      "False\n",
      "True\n",
      "True\n",
      "False\n",
      "True\n"
     ]
    }
   ],
   "source": [
    "print(\"SuperSize\".islower())\n",
    "print(\"SuperSize\".isupper())\n",
    "print(\"supersize\".islower())\n",
    "print(\"SUPERSIZE\".isupper())\n",
    "print(\"SuperSi ze\".isspace())\n",
    "print(\"   \".isspace())\n",
    "print(\"01234\".isdigit())\n",
    "print(\"01234\".isalpha())\n",
    "print(\"SuperSize\".isalpha())\n"
   ]
  },
  {
   "cell_type": "code",
   "execution_count": 16,
   "metadata": {},
   "outputs": [
    {
     "name": "stdout",
     "output_type": "stream",
     "text": [
      "H e l l o \n",
      " H e l l o\n",
      "H e l l o\n",
      " \n",
      "\n",
      " H e l l o \n",
      "\n",
      "\n",
      "H e l l o\n",
      "H e l l o\n"
     ]
    }
   ],
   "source": [
    "print(\" H e l l o \".lstrip())\n",
    "print(\" H e l l o \".rstrip())\n",
    "print(\" H e l l o \".strip())\n",
    "\n",
    "print(\" \\n\\n H e l l o \\n\\n\")\n",
    "print(\" \\n \\n H e l l o\".strip())\n",
    "print(\" H e l l o \".strip())\n"
   ]
  },
  {
   "cell_type": "markdown",
   "metadata": {},
   "source": [
    "문자열 토큰으로 구분하기\n",
    " - .split(delim=\"\") : delim을 구분자로 사용해 문자열을 부분 문자열의 리스트로 쪼갠다. 구분자를 지정하지 않았으면 공백을 사용해 문자열을 쪼갠다. 연속된 공백은 하나의 공백으로 인식한다."
   ]
  },
  {
   "cell_type": "code",
   "execution_count": 21,
   "metadata": {},
   "outputs": [
    {
     "name": "stdout",
     "output_type": "stream",
     "text": [
      "['Hello,', 'world!']\n",
      "['Hello,', 'world!']\n",
      "\n",
      "\n",
      "['Hello,', 'world!']\n",
      "['Hello, world!']\n",
      "['Hello', ' world!']\n"
     ]
    }
   ],
   "source": [
    "print(\"Hello, world!\".split())\n",
    "print(\"Hello,   world!\".split())\n",
    "#print(\"Hello, world!\".split(\"\")) empty seperator가 되어 오류가 발생\n",
    "print(\"\\n\")\n",
    "print(\"Hello, world!\".split(\" \"))\n",
    "print(\"Hello, world!\".split(\"  \")) # denim이 공백 두개로 이루어져 있어서 하나의 토큰으로 인식되었다.\n",
    "print(\"Hello, world!\".split(\",\"))\n"
   ]
  },
  {
   "cell_type": "markdown",
   "metadata": {
    "collapsed": true
   },
   "source": [
    "- join() : 객체 문자열을 접착제로 사용해 문자열 리스트를 하나의 문자열로 붙이는 함수\n",
    "- find(\"str\") : 부분 문자열 str이 처음 등장하는 index(위치)를 반환하며, 부분 문자열이 없을 때는 -1을 반환한다. 대소문자를 구분한다.\n",
    "- count(\"str\") : 대상 문자열에서 부분 문자열 str이 등장하는 횟수를 반환한다. 대소문자를 구분한다."
   ]
  },
  {
   "cell_type": "code",
   "execution_count": 8,
   "metadata": {},
   "outputs": [
    {
     "name": "stdout",
     "output_type": "stream",
     "text": [
      "alpha,bravo,charlie,delta\n",
      "alpha, bravo, charlie, delta\n",
      "alpha,  bravo,  charlie,  delta\n",
      "alpha-bravo-charlie-delta\n",
      "alpha- bravo- charlie- delta\n",
      "\n",
      "\n",
      "1-627-305-1985\n",
      "\n",
      "\n",
      "This string has many spaces\n",
      "\n",
      "\n",
      "21\n",
      "-1\n",
      "\n",
      "\n",
      "2\n",
      "3\n"
     ]
    }
   ],
   "source": [
    "print(\",\".join([\"alpha\", \"bravo\", \"charlie\", \"delta\"]))\n",
    "print(\", \".join([\"alpha\", \"bravo\", \"charlie\", \"delta\"]))\n",
    "print(\",  \".join([\"alpha\", \"bravo\", \"charlie\", \"delta\"]))\n",
    "print(\"-\".join([\"alpha\", \"bravo\", \"charlie\", \"delta\"]))\n",
    "print(\"- \".join([\"alpha\", \"bravo\", \"charlie\", \"delta\"]))\n",
    "print(\"\\n\")\n",
    "#split함수와의 응용\n",
    "print(\"-\".join(\"1.627.305.1985\".split(\".\")))\n",
    "print(\"\\n\")\n",
    "#필요없는 공백을 제거하는 등에 사용(아래는 실제 예시)\n",
    "print(\" \".join(\"This string\\n\\r has many\\t\\tspaces\".split()))\n",
    "print(\"\\n\")\n",
    "print(\"www.networksciencelab.com\".find(\".com\"))\n",
    "print(\"www.networksciencelab.com\".find(\".ac.kr\"))\n",
    "print(\"\\n\")\n",
    "#각각 \".\", \"c\" 의 갯수를 반환한다.\n",
    "print(\"www.networksciencelab.com\".count(\".\"))\n",
    "print(\"www.networksciencelab.com\".count(\"c\"))\n"
   ]
  },
  {
   "cell_type": "code",
   "execution_count": null,
   "metadata": {
    "collapsed": true
   },
   "outputs": [],
   "source": []
  }
 ],
 "metadata": {
  "kernelspec": {
   "display_name": "Python 2",
   "language": "python",
   "name": "python2"
  },
  "language_info": {
   "codemirror_mode": {
    "name": "ipython",
    "version": 2
   },
   "file_extension": ".py",
   "mimetype": "text/x-python",
   "name": "python",
   "nbconvert_exporter": "python",
   "pygments_lexer": "ipython2",
   "version": "2.7.10"
  }
 },
 "nbformat": 4,
 "nbformat_minor": 2
}
