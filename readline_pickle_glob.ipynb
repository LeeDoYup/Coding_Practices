{
 "cells": [
  {
   "cell_type": "markdown",
   "metadata": {},
   "source": [
    "# How to Treat Files in Python\n",
    "\n",
    "파이썬 내에서 파일들은 읽고/쓰고/기타 다루는 방법들 정리"
   ]
  },
  {
   "cell_type": "markdown",
   "metadata": {},
   "source": [
    "## 한 줄 씩 읽고/쓰기"
   ]
  },
  {
   "cell_type": "code",
   "execution_count": 1,
   "metadata": {},
   "outputs": [
    {
     "name": "stdout",
     "output_type": "stream",
     "text": [
      "test\n",
      "\n",
      "test1\n",
      "\n"
     ]
    }
   ],
   "source": [
    "f = open('./useless/treat_files.txt')\n",
    "print f.readline()\n",
    "print f.readline() #string 형식으로 리턴함을 주의!"
   ]
  },
  {
   "cell_type": "code",
   "execution_count": 2,
   "metadata": {},
   "outputs": [
    {
     "name": "stdout",
     "output_type": "stream",
     "text": [
      "test\n",
      "\n",
      "test1\n",
      "\n",
      "test2\n"
     ]
    }
   ],
   "source": [
    "f = open('./useless/treat_files.txt')\n",
    "for i in range(3):\n",
    "    line = f.readline()\n",
    "    print line"
   ]
  },
  {
   "cell_type": "code",
   "execution_count": 3,
   "metadata": {},
   "outputs": [
    {
     "name": "stdout",
     "output_type": "stream",
     "text": [
      "['test\\n', 'test1\\n', 'test2']\n"
     ]
    }
   ],
   "source": [
    "f = open('./useless/treat_files.txt')\n",
    "print f.readlines() #not readline, readline\"s\""
   ]
  },
  {
   "cell_type": "markdown",
   "metadata": {},
   "source": [
    "## Pickle\n",
    "\n",
    "파이썬에서 기본적으로 제공하는 표준 입출력방식은 리스트나 클래스와 같은 자료가 아닌 스트링 형식의 자료만 저장할 수 있다.\n",
    "이를 극복하기 위해, 텍스트 이외의 자료형을 저장할 때 pickle을 사용한다.\n",
    "주의할점은, 데이터를 저장하고 불러올 때 파일 형식을 바이트(b) 형식으로 써야한다.\n",
    "'wb', 'rb' 사용"
   ]
  },
  {
   "cell_type": "code",
   "execution_count": 4,
   "metadata": {
    "collapsed": true
   },
   "outputs": [],
   "source": [
    "#users.txt 파일에 users 딕셔너리를 pickle로 저장\n",
    "\n",
    "users = {'kim':'3kid9', 'sun80':'393948', 'ljm':'py90390'}\n",
    "f = open('./useless/users.txt', 'wb')\n",
    "\n",
    "import pickle\n",
    "pickle.dump(users, f)\n",
    "f.close()"
   ]
  },
  {
   "cell_type": "code",
   "execution_count": 5,
   "metadata": {},
   "outputs": [
    {
     "name": "stdout",
     "output_type": "stream",
     "text": [
      "{'ljm': 'py90390', 'kim': '3kid9', 'sun80': '393948'}\n"
     ]
    }
   ],
   "source": [
    "f = open('./useless/users.txt', 'rb')\n",
    "a = pickle.load(f)\n",
    "print a"
   ]
  },
  {
   "cell_type": "markdown",
   "metadata": {},
   "source": [
    "## Glob"
   ]
  },
  {
   "cell_type": "code",
   "execution_count": 6,
   "metadata": {},
   "outputs": [
    {
     "name": "stdout",
     "output_type": "stream",
     "text": [
      "\n",
      " All Names of File and Folder in this Directory\n",
      "['algorithm-basic-python', 'make_one_hot.ipynb', 'numpy_exercises-master', 'Pandas_Practice', 'readline_pickle_glob.ipynb', 'README.md', 'treat_files.txt', 'Unit.5~Unit.10 \\xe1\\x84\\x8b\\xe1\\x85\\xa9\\xe1\\x86\\xaf\\xe1\\x84\\x87\\xe1\\x85\\xa1\\xe1\\x84\\x85\\xe1\\x85\\xb3\\xe1\\x86\\xab \\xe1\\x84\\x8c\\xe1\\x85\\xa1\\xe1\\x84\\x85\\xe1\\x85\\xad\\xe1\\x84\\x80\\xe1\\x85\\xae\\xe1\\x84\\x8c\\xe1\\x85\\xa9 \\xe1\\x84\\x89\\xe1\\x85\\xa5\\xe1\\x86\\xab\\xe1\\x84\\x90\\xe1\\x85\\xa2\\xe1\\x86\\xa8\\xe1\\x84\\x92\\xe1\\x85\\xa1\\xe1\\x84\\x80\\xe1\\x85\\xb5.ipynb', 'unit01. \\xe1\\x84\\x83\\xe1\\x85\\xa6\\xe1\\x84\\x8b\\xe1\\x85\\xb5\\xe1\\x84\\x90\\xe1\\x85\\xa5 \\xe1\\x84\\x87\\xe1\\x85\\xae\\xe1\\x86\\xab\\xe1\\x84\\x89\\xe1\\x85\\xa5\\xe1\\x86\\xa8 \\xe1\\x84\\x80\\xe1\\x85\\xaa\\xe1\\x84\\x8c\\xe1\\x85\\xa5\\xe1\\x86\\xbc ~ unit03. \\xe1\\x84\\x87\\xe1\\x85\\xa9\\xe1\\x84\\x80\\xe1\\x85\\xa9\\xe1\\x84\\x89\\xe1\\x85\\xa5 \\xe1\\x84\\x80\\xe1\\x85\\xae\\xe1\\x84\\x8c\\xe1\\x85\\xa9.ipynb', 'unit04. \\xe1\\x84\\x80\\xe1\\x85\\xb5\\xe1\\x84\\x87\\xe1\\x85\\xa9\\xe1\\x86\\xab \\xe1\\x84\\x86\\xe1\\x85\\xae\\xe1\\x86\\xab\\xe1\\x84\\x8c\\xe1\\x85\\xa1\\xe1\\x84\\x8b\\xe1\\x85\\xa7\\xe1\\x86\\xaf \\xe1\\x84\\x92\\xe1\\x85\\xa1\\xe1\\x86\\xb7\\xe1\\x84\\x89\\xe1\\x85\\xae \\xe1\\x84\\x8b\\xe1\\x85\\xb5\\xe1\\x84\\x92\\xe1\\x85\\xa2\\xe1\\x84\\x92\\xe1\\x85\\xa1\\xe1\\x84\\x80\\xe1\\x85\\xb5.ipynb', 'users.txt']\n",
      "\n",
      " All Names of File in this Directory\n",
      "['make_one_hot.ipynb', 'readline_pickle_glob.ipynb', 'README.md', 'treat_files.txt', 'Unit.5~Unit.10 \\xe1\\x84\\x8b\\xe1\\x85\\xa9\\xe1\\x86\\xaf\\xe1\\x84\\x87\\xe1\\x85\\xa1\\xe1\\x84\\x85\\xe1\\x85\\xb3\\xe1\\x86\\xab \\xe1\\x84\\x8c\\xe1\\x85\\xa1\\xe1\\x84\\x85\\xe1\\x85\\xad\\xe1\\x84\\x80\\xe1\\x85\\xae\\xe1\\x84\\x8c\\xe1\\x85\\xa9 \\xe1\\x84\\x89\\xe1\\x85\\xa5\\xe1\\x86\\xab\\xe1\\x84\\x90\\xe1\\x85\\xa2\\xe1\\x86\\xa8\\xe1\\x84\\x92\\xe1\\x85\\xa1\\xe1\\x84\\x80\\xe1\\x85\\xb5.ipynb', 'unit01. \\xe1\\x84\\x83\\xe1\\x85\\xa6\\xe1\\x84\\x8b\\xe1\\x85\\xb5\\xe1\\x84\\x90\\xe1\\x85\\xa5 \\xe1\\x84\\x87\\xe1\\x85\\xae\\xe1\\x86\\xab\\xe1\\x84\\x89\\xe1\\x85\\xa5\\xe1\\x86\\xa8 \\xe1\\x84\\x80\\xe1\\x85\\xaa\\xe1\\x84\\x8c\\xe1\\x85\\xa5\\xe1\\x86\\xbc ~ unit03. \\xe1\\x84\\x87\\xe1\\x85\\xa9\\xe1\\x84\\x80\\xe1\\x85\\xa9\\xe1\\x84\\x89\\xe1\\x85\\xa5 \\xe1\\x84\\x80\\xe1\\x85\\xae\\xe1\\x84\\x8c\\xe1\\x85\\xa9.ipynb', 'unit04. \\xe1\\x84\\x80\\xe1\\x85\\xb5\\xe1\\x84\\x87\\xe1\\x85\\xa9\\xe1\\x86\\xab \\xe1\\x84\\x86\\xe1\\x85\\xae\\xe1\\x86\\xab\\xe1\\x84\\x8c\\xe1\\x85\\xa1\\xe1\\x84\\x8b\\xe1\\x85\\xa7\\xe1\\x86\\xaf \\xe1\\x84\\x92\\xe1\\x85\\xa1\\xe1\\x86\\xb7\\xe1\\x84\\x89\\xe1\\x85\\xae \\xe1\\x84\\x8b\\xe1\\x85\\xb5\\xe1\\x84\\x92\\xe1\\x85\\xa2\\xe1\\x84\\x92\\xe1\\x85\\xa1\\xe1\\x84\\x80\\xe1\\x85\\xb5.ipynb', 'users.txt']\n",
      "\n",
      " All File Names with .txt in this Directory\n",
      "['treat_files.txt', 'users.txt']\n"
     ]
    }
   ],
   "source": [
    "import glob\n",
    "\n",
    "print \"\\n All Names of File and Folder in this Directory\"\n",
    "print glob.glob('*')\n",
    "\n",
    "print \"\\n All Names of File in this Directory\"\n",
    "print glob.glob('*.*') #현재 디렉토리의 모든 이름/모든 확장자 파일들을 string 형식의 리스트로 반환\n",
    "\n",
    "print \"\\n All File Names with .txt in this Directory\"\n",
    "print glob.glob('*.txt') #현재 디렉토리의 모든 이름/모든 확장자 파일들을 string 형식의 리스트로 반환\n",
    "\n",
    "\n"
   ]
  },
  {
   "cell_type": "code",
   "execution_count": null,
   "metadata": {
    "collapsed": true
   },
   "outputs": [],
   "source": []
  }
 ],
 "metadata": {
  "kernelspec": {
   "display_name": "Python 2",
   "language": "python",
   "name": "python2"
  },
  "language_info": {
   "codemirror_mode": {
    "name": "ipython",
    "version": 2
   },
   "file_extension": ".py",
   "mimetype": "text/x-python",
   "name": "python",
   "nbconvert_exporter": "python",
   "pygments_lexer": "ipython2",
   "version": "2.7.12"
  }
 },
 "nbformat": 4,
 "nbformat_minor": 2
}
