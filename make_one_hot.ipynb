{
 "cells": [
  {
   "cell_type": "markdown",
   "metadata": {},
   "source": [
    "# Making One-hot Representation\n",
    "\n",
    "기존 class label에서 one-hot representation으로 바꾸는 코드를 자주 헷갈려 가능한 방법을 정리하였습니다."
   ]
  },
  {
   "cell_type": "markdown",
   "metadata": {},
   "source": [
    "## 방법 1: 반복문을 이용하여 one_hot representation이 완성된 list 반환"
   ]
  },
  {
   "cell_type": "code",
   "execution_count": 13,
   "metadata": {
    "collapsed": true
   },
   "outputs": [],
   "source": [
    "# labels_dense: 1d list of labels (number of data)\n",
    "def make_one_hot(labels_dense, num_classes):\n",
    "    num_labels = len(labels_dense)\n",
    "    labels_one_hot = list()\n",
    "    for i in range(num_labels):\n",
    "        temp = [0 for _ in range(num_classes)]\n",
    "        temp[labels_dense[i]] = 1\n",
    "        labels_one_hot.append(temp)\n",
    "    return labels_one_hot"
   ]
  },
  {
   "cell_type": "markdown",
   "metadata": {},
   "source": [
    "## 방법 2: Numpy 를 통하여 one-hot representation 만들기\n",
    " *이 방법은 tensorflow에서 one-hot representation을 구성할 때 사용하는 방법입니다."
   ]
  },
  {
   "cell_type": "code",
   "execution_count": 14,
   "metadata": {
    "collapsed": true
   },
   "outputs": [],
   "source": [
    "import numpy as np\n",
    "# labels_dense: numpy array\n",
    "def dense_to_one_hot(labels_dense, num_classes):\n",
    "    num_labels = labels_dense.shape[0]\n",
    "    index_offset = np.arange(num_labels) * num_classes\n",
    "    labels_one_hot = np.zeros([num_labels, num_classes])\n",
    "    labels_one_hot.flat[index_offset + labels_dense.ravel()] = 1\n",
    "    return labels_one_hot"
   ]
  },
  {
   "cell_type": "markdown",
   "metadata": {},
   "source": [
    "### 두 방법의 성능 비교"
   ]
  },
  {
   "cell_type": "code",
   "execution_count": 15,
   "metadata": {},
   "outputs": [],
   "source": [
    "import random\n",
    "import time\n",
    "def test(n):\n",
    "    a = list()\n",
    "    for i in range(n):\n",
    "        a.append(random.randint(0,9))\n",
    "    b = np.array(a)\n",
    "    \n",
    "    start = time.time()\n",
    "    test1 = make_one_hot(a,10)\n",
    "    end = time.time()\n",
    "    time_test1 = end-start\n",
    "    \n",
    "    start = time.time()\n",
    "    test1 = dense_to_one_hot(b,10)\n",
    "    end = time.time()\n",
    "    time_test2 = end-start\n",
    "    \n",
    "    print n, time_test1, time_test2, time_test1/time_test2"
   ]
  },
  {
   "cell_type": "code",
   "execution_count": 16,
   "metadata": {},
   "outputs": [
    {
     "name": "stdout",
     "output_type": "stream",
     "text": [
      "100 0.000257968902588 6.38961791992e-05 4.03731343284\n"
     ]
    }
   ],
   "source": [
    "test(100)"
   ]
  },
  {
   "cell_type": "code",
   "execution_count": 17,
   "metadata": {},
   "outputs": [
    {
     "name": "stdout",
     "output_type": "stream",
     "text": [
      "10000 0.0133819580078 0.00129914283752 10.3006056157\n"
     ]
    }
   ],
   "source": [
    "test(10000)"
   ]
  },
  {
   "cell_type": "code",
   "execution_count": 18,
   "metadata": {},
   "outputs": [
    {
     "name": "stdout",
     "output_type": "stream",
     "text": [
      "10000 0.0152499675751 0.0011157989502 13.6673076923\n"
     ]
    }
   ],
   "source": [
    "test(10000)"
   ]
  },
  {
   "cell_type": "markdown",
   "metadata": {},
   "source": [
    "Tensorflow는 numpy에 내장된 함수를 적절히 활용하여 시간복잡성을 많이 낮춘 것을 볼 수 있네요.\n",
    "\n",
    "어쩌면 당연한 것인데, 제 실력이 아직 모자란 것이네요 ㅎ..."
   ]
  },
  {
   "cell_type": "code",
   "execution_count": null,
   "metadata": {
    "collapsed": true
   },
   "outputs": [],
   "source": []
  }
 ],
 "metadata": {
  "kernelspec": {
   "display_name": "Python 2",
   "language": "python",
   "name": "python2"
  },
  "language_info": {
   "codemirror_mode": {
    "name": "ipython",
    "version": 2
   },
   "file_extension": ".py",
   "mimetype": "text/x-python",
   "name": "python",
   "nbconvert_exporter": "python",
   "pygments_lexer": "ipython2",
   "version": "2.7.12"
  }
 },
 "nbformat": 4,
 "nbformat_minor": 2
}
