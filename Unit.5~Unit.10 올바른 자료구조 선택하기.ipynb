{
 "cells": [
  {
   "cell_type": "markdown",
   "metadata": {},
   "source": [
    "unit.5 올바른 자료구조 선택하기\n",
    "\n",
    "data collection인 리스트, 튜플, 셋, 딕셔너리에 대해 알아본다.\n",
    "\n",
    "리스트(List) : 리스트에서 item을 검색할 떄 걸리는 시간은 선형적으로 증가하기 때문에, 검색이 가능한 대용량을 데이터를 저장하는 용도로는 실용성이 떨어짐\n",
    "\n",
    "튜플(Tuple) : 변형이 불가능한 list이다. list와 성질이 비슷하다.\n",
    "\n",
    "셋(Set) : 순서와 index가 없다. 같은 아이템이 중복으로 저장될 수 없으며, 검색 시간은 준선형적인 O(log(N))으로 증가한다. ->내용 이해 필요\n"
   ]
  },
  {
   "cell_type": "code",
   "execution_count": 10,
   "metadata": {},
   "outputs": [
    {
     "name": "stdout",
     "output_type": "stream",
     "text": [
      "[3, 2, 3, 5, 4, 5, 1]\n",
      "\n",
      "\n",
      "set([1, 2, 3, 4, 5])\n"
     ]
    }
   ],
   "source": [
    "#set 예시\n",
    "temp_list=[3,2,3,5,4,5,1]\n",
    "print(temp_list)\n",
    "print(\"\\n\")\n",
    "\n",
    "temp_Set=set(temp_list)\n",
    "print(temp_Set)"
   ]
  },
  {
   "cell_type": "markdown",
   "metadata": {},
   "source": [
    "딕셔너리(dictionary) : 키(key)를 값(value)에 매핑(mapping)한다. 검색 시간은 준선형적인 O(log(N))으로 증가한다. ->내용 이해 필요\n",
    "기본형태 : {0: 'alpha', 1: 'bravo', 2: 'charlie', 3: 'delta'}\n",
    "\n",
    "딕셔너리를 만드는 방법\n",
    "1. 튜플(키,값)이 여러 개 있는 list에서 만드는 방법\n",
    "\n",
    "2. 내장된 클래스 생성자인 enumerate(seq)를 사용해 seq 안의 아이템 순번을 키로 지정한 딕셔너리를 만드는 방법\n",
    "    #방법2 - python 3 에서 지원\n",
    "    seq = [\"alpha\", \"bravo\", \"charlie\", \"delta\"]\n",
    "    print(dict(enumerate(seq)))\n",
    "    \n",
    "3. 키 list와 값 list에 zip 함수를 사용하는 방법\n",
    "    #방법3 - python 3 에서 지원\n",
    "    kseq=\"abcd\"\n",
    "    vseq=[\"alpha\", \"bravo\", \"charlie\", \"delta\"]\n",
    "    dict(zip(kseq, vseq))"
   ]
  },
  {
   "cell_type": "code",
   "execution_count": 2,
   "metadata": {},
   "outputs": [
    {
     "name": "stdout",
     "output_type": "stream",
     "text": [
      "{0: 'alpha', 1: 'bravo', 2: 'charlie', 3: 'delta'}\n",
      "{'a': 'alpha', 'c': 'charlie', 'b': 'bravo', 'd': 'delta'}\n"
     ]
    }
   ],
   "source": [
    "\n",
    "seq = [\"alpha\", \"bravo\", \"charlie\", \"delta\"]\n",
    "print(dict(enumerate(seq)))\n",
    "\n",
    "kseq=\"abcd\"\n",
    "vseq=[\"alpha\", \"bravo\", \"charlie\", \"delta\"]\n",
    "print(dict(zip(kseq, vseq)))"
   ]
  },
  {
   "cell_type": "markdown",
   "metadata": {
    "collapsed": true
   },
   "source": [
    "unit.6 리스트 내포로 리스트 이해하기\n",
    "\n",
    "리스트 내포(list comprehension) : 컬렉션을 리스트로 변환하는 표현식, 리스트의 전체나 일부 아이템에 적용 가능\n",
    "\n",
    "변환 과정\n",
    "1. 리스트 내포 표현식이 컬렉션을 순회하며 아이템을 조회\n",
    "2. 옵션으로 지정할 때는 각 아이템에 boolean 표현식(기본은 True)을 적용\n",
    "3. Boolean 표현식이 True라면 현재 대상인 아이템에 표현식을 적용하고, 출력된 값을 결과 리스트에 추가\n",
    "4. 불 표현식이 False라면 해당 아이템은 무시\n",
    "\n"
   ]
  },
  {
   "cell_type": "code",
   "execution_count": 9,
   "metadata": {},
   "outputs": [
    {
     "name": "stdout",
     "output_type": "stream",
     "text": [
      "[-1, -2, 3]\n",
      "[3]\n",
      "[1, 4, 9]\n",
      "[-1.0, -0.5, 0.3333333333333333]\n"
     ]
    }
   ],
   "source": [
    "myList = [-1,-2,3]\n",
    "infile = \" Hello, i'm Seunggue. \"\n",
    "#myList 복사\n",
    "print([x for x in myList])\n",
    "\n",
    "#음수가 아닌 항목만 추리기\n",
    "print([x for x in myList if x>=0])\n",
    "\n",
    "#모든 아이템을 거듭제곱\n",
    "print([x**2 for x in myList])\n",
    "\n",
    "#0이 아닌 아이템을 역수\n",
    "print([1/x for x in myList if x !=0])\n"
   ]
  },
  {
   "cell_type": "markdown",
   "metadata": {
    "collapsed": true
   },
   "source": [
    "unit.7 카운터로 세기\n",
    "\n",
    "카운터(counter) : 딕셔너리 스타일의 컬렉션으로 다른 컬렉션 안의 아이템 개수를 셀 떄 사용. collection 모듈 안에 정의되어 있음"
   ]
  },
  {
   "cell_type": "code",
   "execution_count": 16,
   "metadata": {},
   "outputs": [
    {
     "name": "stdout",
     "output_type": "stream",
     "text": [
      "Counter({'b': 3, 'panama': 2, 'a': 1, 'canal': 1, 'plan': 1, 'man': 1})\n",
      "[('b', 3), ('panama', 2), ('a', 1), ('canal', 1), ('plan', 1), ('man', 1)]\n",
      "{'a': 1, 'canal': 1, 'b': 3, 'panama': 2, 'plan': 1, 'man': 1}\n",
      "1\n",
      "2\n"
     ]
    }
   ],
   "source": [
    "from collections import Counter\n",
    "phrase = \"a man b plan b canal panama b panama\"\n",
    "cntr = Counter(phrase.split())\n",
    "print(cntr)\n",
    "print(cntr.most_common())\n",
    "\n",
    "#딕셔너리(dictionary)로 변환하여 가독성 높이기\n",
    "cntrDict = dict(cntr.most_common())\n",
    "print(cntrDict)\n",
    "\n",
    "#자료 찾기\n",
    "print(cntrDict['a'])\n",
    "print(cntrDict['panama'])"
   ]
  },
  {
   "cell_type": "markdown",
   "metadata": {},
   "source": [
    "unit.8 파일 다루기\n",
    "파일은 비휘발성 저장공간으로 장기적인 데이터 저장에 적합\n",
    "파일 처리 : 파일을 열고(r), 쓰거나 덮어쓰고(w), 내용을 추가(a)할 목적으로 파일을 연다.\n",
    "\n",
    "f=open(name, mode=\"r\")\n",
    "<<파일을 읽는다>>\n",
    "f.close()\n",
    "\n",
    "(*없는 파일을 열면 오류가 발생한다.)\n",
    "\n",
    "python에서는 with구문을 사용하면 파일을 자동으로 닫아준다.\n",
    "\n",
    "with open(name, mode=\"r\") as f:\n",
    "<<파일을 읽는다>>\n",
    "\n",
    "pickle같은 모듈에서는 파일을 binary 모드에서 열어야 한다. (*unit.12 에서 pickle을 배운다.)\n",
    "\n",
    "다음 함수들은 이미 열려 있는 파일 f에서 텍스트 데이터를 읽을 때 사용한다.\n",
    "\n",
    "f.read() # 모든 데이터를 문자열이나 바이너리 형태로 읽는다.\n",
    "f.read(n) # 첫 번째 n개의 바이트를 문자열이나 바이너리 형태로 읽는다.\n",
    "f.readline() # 다음 줄(line)을 문자열로 읽는다.\n",
    "f.readlines() # 모든 줄을 문자열 리스트로 읽는다.\n",
    "\n",
    "위 함수들을 섞어서 사용하면 첫 문자열을 읽은 후 다음 5개의 바이트를 읽을 수 있다. 또한 읽은 결과 값에는 개행문자(newline character '\\n')이 포함되어 있다.\n",
    "\n",
    "다음 함수들은 이미 열려 있는 파일 f에 텍스트 데이터를 기록한다.\n",
    "f.write(line) # 문자열이나 바이너리를 기록한다.\n",
    "f.writelines(lines) # 문자열 리스트를 기록한다.\n",
    "\n",
    "이 함수들은 기록한 문자열의 마지막에 개행문자를 추가하지 않으므로 필요하다면 직접 입력해주어야 한다."
   ]
  },
  {
   "cell_type": "code",
   "execution_count": 30,
   "metadata": {},
   "outputs": [
    {
     "name": "stdout",
     "output_type": "stream",
     "text": [
      "hello. my name is lee.\n",
      "nice to meet you.\n",
      "thanks.\n",
      "--------\n",
      "hello. my \n",
      "--------\n",
      "hello. my name is lee.\n",
      "\n",
      "--------\n",
      "['hello. my name is lee.\\n', 'nice to meet you.\\n', 'thanks.']\n",
      "--------\n",
      "--------\n"
     ]
    }
   ],
   "source": [
    "f=open(\"sample.txt\", mode=\"r\")\n",
    "l=f.read()\n",
    "print(l)\n",
    "f.close()\n",
    "print(\"--------\")\n",
    "\n",
    "f=open(\"sample.txt\", mode=\"r\")\n",
    "l=f.read(10)\n",
    "print(l)\n",
    "f.close()\n",
    "\n",
    "print(\"--------\")\n",
    "f=open(\"sample.txt\", mode=\"r\")\n",
    "l=f.readline()\n",
    "print(l)\n",
    "f.close()\n",
    "\n",
    "print(\"--------\")\n",
    "f=open(\"sample.txt\", mode=\"r\")\n",
    "l=f.readlines()\n",
    "print(l)\n",
    "f.close()\n",
    "\n",
    "\n",
    "print(\"--------\")\n",
    "f=open(\"sample2.txt\", mode='w')\n",
    "line =\"happy. to meet you.\"\n",
    "f.write(line)\n",
    "f.close()\n",
    "\n",
    "'''\n",
    "print(\"--------\")\n",
    "f=open(\"sample2.txt\", mode='w')\n",
    "lines =[\"happy. to meet you.\", \"nice to meet you\"]\n",
    "f.write(lines)\n",
    "f.close()\n",
    "''' #lines가 문자열 리스트 이기 때문에 오류 발생\n",
    "\n",
    "print(\"--------\")\n",
    "f=open(\"sample3.txt\", mode='w')\n",
    "lines =[\"happy. to meet you.\", \"nice to meet you\"]\n",
    "f.writelines(lines)\n",
    "f.close()\n",
    "\n",
    "\n"
   ]
  },
  {
   "cell_type": "markdown",
   "metadata": {},
   "source": [
    "unit.9 웹에 접근하기\n",
    "\n",
    "urllib.request 모듈은 웹에서 데이터를 내려받는 함수를 제공한다.\n",
    "\n",
    "웹에서 무언가를 내려받는 첫 단계는 urlopen(url) 함수를 사용해 URL을 열고 URL 핸들을 획득하는 것이다.\n",
    "URL 핸들은 읽기 전용 파일의 핸들과 비슷하게 처리하 ㄹ수 있다.\n",
    "\n",
    "다음과 같은 함수를 사용하여 데이터에 접근한다.\n",
    "\n",
    "read(), readline(), readlines()\n",
    "\n",
    "웹은 끊임 없이 변화하기 때문에 URL을 여는 것을 로컬 디스크 파일을 여는 것보다 실패할 확률이 높다. 때문에 예외 처리 구문에 웹과 관련된 함수를 넣어 두어야 한다."
   ]
  },
  {
   "cell_type": "code",
   "execution_count": 16,
   "metadata": {},
   "outputs": [
    {
     "name": "stdout",
     "output_type": "stream",
     "text": [
      "<html>\n",
      "\n"
     ]
    }
   ],
   "source": [
    "from six.moves import urllib #python2에서 제공되지 않는 library를 import\n",
    "try:\n",
    "        doc = urllib.request.urlopen(\"http://www.networksciencelab.com/\")\n",
    "        html = doc.readline()\n",
    "        print(html)\n",
    "        #성공적으로 URL을 읽었다면 접속이 자동으로 종료된다.\n",
    "        \n",
    "except: \n",
    "        print(\"Could not open %s\" % doc)\n",
    "        #파일을 읽었다고 거짓말 하지 않기 위해 추가\n",
    "        #여기서 오류 시 실행할 것들을 명시한다."
   ]
  },
  {
   "cell_type": "markdown",
   "metadata": {},
   "source": [
    "데이터를 수집하려는 웹 사이트가 인증을 요구한다면 urlopen() 함수는 동작하지 않는다. 이때는 SSL(secure socket layer)을 제공하는 모듈을 사용해야 한다.\n",
    "\n",
    "urllib.parse 모듈은 URL을 파싱하고 역파싱하는 유용한 도구를 제공한다.\n",
    "파싱(parsing): 일련의 문자열을 의미있는 토큰(token)으로 분리하는 과정\n",
    "-urlparse() : URL을 6개의 아이템으로 구성된 튜플로 분리 -> 스키마(http 등), 네트워크 주소, 파일 시스템 경로, 파라미터, 쿼리(query), 프래그먼트(fragment)\n",
    "-urlinparse(parts) : 함수는 urlparse() 함수에서 반환된 parts에서 URL을 생성한다.\n",
    "\n",
    "아래에서 위 두 함수에 대한 예제를 보였다."
   ]
  },
  {
   "cell_type": "code",
   "execution_count": 22,
   "metadata": {},
   "outputs": [
    {
     "name": "stdout",
     "output_type": "stream",
     "text": [
      "ParseResult(scheme='http', netloc='networksciencelab.com', path='/index.html', params='param', query='foo=bar', fragment='content')\n",
      "http://networksciencelab.com/index.html;param?foo=bar#content\n"
     ]
    }
   ],
   "source": [
    "from six.moves import urllib #python2에서 제공되지 않는 library를 import\n",
    "URL = \"http://networksciencelab.com/index.html;param?foo=bar#content\"\n",
    "#파싱\n",
    "liii = urllib.parse.urlparse(URL)\n",
    "print(liii)\n",
    "\n",
    "#역파싱\n",
    "lii2 = urllib.parse.urlunparse(liii)\n",
    "print(lii2)"
   ]
  },
  {
   "cell_type": "markdown",
   "metadata": {},
   "source": [
    "unit.10 정규 표현식으로 패턴 매칭하기"
   ]
  },
  {
   "cell_type": "code",
   "execution_count": null,
   "metadata": {
    "collapsed": true
   },
   "outputs": [],
   "source": []
  },
  {
   "cell_type": "code",
   "execution_count": null,
   "metadata": {
    "collapsed": true
   },
   "outputs": [],
   "source": []
  },
  {
   "cell_type": "code",
   "execution_count": null,
   "metadata": {
    "collapsed": true
   },
   "outputs": [],
   "source": []
  }
 ],
 "metadata": {
  "kernelspec": {
   "display_name": "Python 2",
   "language": "python",
   "name": "python2"
  }
 },
 "nbformat": 4,
 "nbformat_minor": 2
}
